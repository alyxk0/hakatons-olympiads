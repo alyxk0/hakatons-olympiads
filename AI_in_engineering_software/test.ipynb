{
 "cells": [
  {
   "cell_type": "code",
   "execution_count": 3,
   "id": "13ca3a7f-9e1a-413a-a126-a9ab8034e38f",
   "metadata": {},
   "outputs": [
    {
     "name": "stdout",
     "output_type": "stream",
     "text": [
      "Количество смайликовв тексте: 3\n"
     ]
    }
   ],
   "source": [
    "import re\n",
    "\n",
    "def count_smiley(text):\n",
    "    # Регулярное выражение для поиска смайлика :<{=\n",
    "    pattern = re.compile(r':<{=')\n",
    "    # Подсчет количества вхождений смайлика\n",
    "    count = len(pattern.findall(text))\n",
    "    return count\n",
    "\n",
    "#text = \"\"\n",
    "#text = \":<{=\"\n",
    "#text = \"Это пример текста с несколькими смайликами :<{= и другими символами :<{= и еще :<{=.\"\n",
    "#text = \"Это пример текста с неполными смайликами :<{ и <{= и еще :<{=.\"\n",
    "#text = \"Это пример текста с несколькими подряд смайликами :<{=:<{=:<{=.\"\n",
    "\n",
    "result = count_smiley(text)\n",
    "print(f\"Количество смайликовв тексте: {result}\")\n"
   ]
  },
  {
   "cell_type": "code",
   "execution_count": 64,
   "id": "7acf9554-3708-4b8c-ac15-69b94998de53",
   "metadata": {},
   "outputs": [
    {
     "name": "stdout",
     "output_type": "stream",
     "text": [
      "Баранов\n",
      "Сидорова\n"
     ]
    }
   ],
   "source": [
    "import re\n",
    "\n",
    "# Пример текста\n",
    "#text = \"Баранов Б.В. и Сидорова Т.Н. обсуждали проект.\"\n",
    "#text = \"В конференции участвовали Смирнов-Иванов С.И. и Кузнецова А.А.\"\n",
    "#text = \"Преподаватели: Ковалев К.А., Баранов Б.В. и Сидорова Т.Н..\"\n",
    "#text = \"На семинаре присутствовали только Костин и Лебедев.\"\n",
    "#text = \"На своей лекции Балакшин П.В. упоминал про старшекурсников, которые будут ему помогать: Анищенко А.А., Балбесов Е.А. и Голованова-Иванова Д.В.\"\n",
    "\n",
    "# Регулярное выражение для поиска фамилий\n",
    "pattern = r'\\b[A-ZА-Я]\\w+(?:-\\w+)*\\b(?=\\s[A-ZА-Я]\\.[A-ZА-Я]\\.)'\n",
    "\n",
    "surnames = re.findall(pattern, text)\n",
    "unique_surnames = sorted(set(surnames))\n",
    "\n",
    "#Выводим результат\n",
    "for surname in unique_surnames:\n",
    "    print(surname)\n"
   ]
  },
  {
   "cell_type": "code",
   "execution_count": 86,
   "id": "d1fc44e8-b39d-48fc-a50b-269472b0bcb5",
   "metadata": {},
   "outputs": [
    {
     "name": "stdout",
     "output_type": "stream",
     "text": [
      "Найденные слова: {'КоРмА'}\n"
     ]
    }
   ],
   "source": [
    "from collections import Counter\n",
    "import re\n",
    "\n",
    "# Тест 1: Слова без соответствия\n",
    "#text = \"КРмААА КРРРмАА КРмАА КРкА\"\n",
    "# Ожидаемый результат: Найденные слова: set()\n",
    "\n",
    "# Тест 2: Слова с пробелами и специальными символами\n",
    "#text = \"КоРмА! КРмА, КРмАА; КРРРмА? КоРкА.\"\n",
    "# Ожидаемый результат: Найденные слова: {'КоРмА'}\n",
    "\n",
    "# Тест 3: Слова с пробелами\n",
    "#text = \"КоР А КРмА КРмАА КРРРмА КоРкА\"\n",
    "# Ожидаемый результат: Найденные слова: set()\n",
    "\n",
    "# Тест 4: Пустой текст\n",
    "# text = \"\"\n",
    "# Ожидаемый результат: Найденные слова: set() \n",
    "\n",
    "# Тест 5: Слова с одинаковыми символами\n",
    "#text = \"КККРРРРА\"\n",
    "# Ожидаемый результат: Найденные слова: set()  \n",
    "\n",
    "l1 = 'К'\n",
    "l2 = 'Р'\n",
    "l3 = 'А'\n",
    "dist1 = 1  \n",
    "dist2 = 1  \n",
    "input_string = l1+l2+l3\n",
    "\n",
    "pattern = rf'\\b{l1}.{{{dist1}}}{l2}.{{{dist2}}}{l3}\\b'\n",
    "matches = re.findall(pattern, text)\n",
    "\n",
    "char_count = Counter(input_string)\n",
    "\n",
    "filtered_matches = set()\n",
    "for match in matches:\n",
    "    temp = True\n",
    "    for char, count in char_count.items():\n",
    "        if (match.count(\" \")):\n",
    "            temp = False\n",
    "        if (match.count(char) > count):\n",
    "            temp = False\n",
    "        if (match.count(char.lower()) != 0):\n",
    "            temp = False\n",
    "    if temp:\n",
    "        filtered_matches.add(match)\n",
    "\n",
    "print(\"Найденные слова:\", filtered_matches)        "
   ]
  },
  {
   "cell_type": "code",
   "execution_count": 89,
   "id": "878ee827-725f-470c-8f97-1a8ad636dfe8",
   "metadata": {},
   "outputs": [
    {
     "name": "stdout",
     "output_type": "stream",
     "text": [
      "15\n"
     ]
    }
   ],
   "source": [
    "print(87%36) #15 YAML JSON Среда, суббота"
   ]
  },
  {
   "cell_type": "code",
   "execution_count": 78,
   "id": "2d6559ac-53cd-4279-8cfa-1f195ec8db79",
   "metadata": {},
   "outputs": [
    {
     "name": "stdout",
     "output_type": "stream",
     "text": [
      "анализ возможностей парсинга электронных текстовых документов для автоматизации нормоконтроля\n"
     ]
    }
   ],
   "source": [
    "print(\"АНАЛИЗ ВОЗМОЖНОСТЕЙ ПАРСИНГА ЭЛЕКТРОННЫХ ТЕКСТОВЫХ ДОКУМЕНТОВ ДЛЯ АВТОМАТИЗАЦИИ НОРМОКОНТРОЛЯ\".lower())"
   ]
  },
  {
   "cell_type": "code",
   "execution_count": null,
   "id": "567d99a0-46e7-448b-9c68-51401fd6ab5c",
   "metadata": {},
   "outputs": [],
   "source": []
  },
  {
   "cell_type": "code",
   "execution_count": null,
   "id": "f51ce644-e3a0-49e3-995f-af13d0adc76a",
   "metadata": {},
   "outputs": [],
   "source": []
  }
 ],
 "metadata": {
  "kernelspec": {
   "display_name": "Python 3 (ipykernel)",
   "language": "python",
   "name": "python3"
  },
  "language_info": {
   "codemirror_mode": {
    "name": "ipython",
    "version": 3
   },
   "file_extension": ".py",
   "mimetype": "text/x-python",
   "name": "python",
   "nbconvert_exporter": "python",
   "pygments_lexer": "ipython3",
   "version": "3.9.1"
  }
 },
 "nbformat": 4,
 "nbformat_minor": 5
}
